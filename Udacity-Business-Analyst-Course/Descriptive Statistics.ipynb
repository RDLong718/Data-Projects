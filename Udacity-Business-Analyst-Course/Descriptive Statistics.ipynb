{
 "cells": [
  {
   "cell_type": "markdown",
   "id": "2702d790",
   "metadata": {},
   "source": [
    "## Descriptive Statistics"
   ]
  },
  {
   "cell_type": "code",
   "execution_count": 79,
   "id": "36d4c068",
   "metadata": {},
   "outputs": [],
   "source": [
    "import statistics\n",
    "import math\n",
    "import matplotlib.pyplot as plt\n",
    "import numpy as np\n"
   ]
  },
  {
   "cell_type": "code",
   "execution_count": 80,
   "id": "c59ed1b7",
   "metadata": {},
   "outputs": [],
   "source": [
    "nums =[15, 4, 3, 8, 15, 22, 7, 9, 2, 3, 3, 12, 6]\n",
    "nums2 = [12,-2,10,0,7,3]"
   ]
  },
  {
   "cell_type": "code",
   "execution_count": 81,
   "id": "b5fd4404",
   "metadata": {},
   "outputs": [],
   "source": [
    "def descriptiveStatistics(nums):\n",
    "    n = len(nums)\n",
    "    minimum = min(nums) \n",
    "    q1 = (statistics.quantiles(nums)[0])\n",
    "    q2 = statistics.quantiles(nums)[1]\n",
    "    q3 = (statistics.quantiles(nums)[2])\n",
    "    maximum = max(nums)\n",
    "    range_1= maximum - minimum\n",
    "    iqr = q3 - q1\n",
    "    mean = statistics.mean(nums)\n",
    "    mode = statistics.multimode(nums)\n",
    "    variance = statistics.variance(nums)\n",
    "    standardDeviation = statistics.stdev(nums)\n",
    "    print(f\"Nums = {n}\")\n",
    "    print(f\"Minimum = {minimum} \")\n",
    "    print(f\"Maximum = {maximum}\")\n",
    "    print(f\"Q1 = {q1}\")\n",
    "    print(f\"Q2 (Median) = {q2}\")\n",
    "    print(f\"Q3 = {q3}\")   \n",
    "    print(f\"Range = {range_1}\")\n",
    "    print(f\"IQR = {iqr}\")\n",
    "    print(f\"Mean = {mean}\")\n",
    "    print(f\"Mode = {mode}\")\n",
    "    print(f\"Variance = {variance}\")\n",
    "    print(f\"Standard Deviation = {standardDeviation}\")\n",
    "    \n"
   ]
  },
  {
   "cell_type": "code",
   "execution_count": 82,
   "id": "e7047d0c",
   "metadata": {},
   "outputs": [
    {
     "name": "stdout",
     "output_type": "stream",
     "text": [
      "Nums = 13\n",
      "Minimum = 2 \n",
      "Maximum = 22\n",
      "Q1 = 3.0\n",
      "Q2 (Median) = 7.0\n",
      "Q3 = 13.5\n",
      "Range = 20\n",
      "IQR = 10.5\n",
      "Mean = 8.384615384615385\n",
      "Mode = [3]\n",
      "Variance = 36.756410256410255\n",
      "Standard Deviation = 6.062706512475287\n"
     ]
    }
   ],
   "source": [
    "descriptiveStatistics(nums)"
   ]
  },
  {
   "cell_type": "code",
   "execution_count": 83,
   "id": "ef14f483",
   "metadata": {},
   "outputs": [
    {
     "name": "stdout",
     "output_type": "stream",
     "text": [
      "Nums = 6\n",
      "Minimum = -2 \n",
      "Maximum = 12\n",
      "Q1 = -0.5\n",
      "Q2 (Median) = 5.0\n",
      "Q3 = 10.5\n",
      "Range = 14\n",
      "IQR = 11.0\n",
      "Mean = 5\n",
      "Mode = [12, -2, 10, 0, 7, 3]\n",
      "Variance = 31.2\n",
      "Standard Deviation = 5.585696017507576\n"
     ]
    }
   ],
   "source": [
    "descriptiveStatistics(nums2)"
   ]
  },
  {
   "cell_type": "code",
   "execution_count": 90,
   "id": "baed4432",
   "metadata": {},
   "outputs": [
    {
     "data": {
      "text/plain": [
       "(array([4., 1., 2., 2., 0., 1., 2., 0., 0., 1.]),\n",
       " array([ 2.,  4.,  6.,  8., 10., 12., 14., 16., 18., 20., 22.]),\n",
       " <BarContainer object of 10 artists>)"
      ]
     },
     "execution_count": 90,
     "metadata": {},
     "output_type": "execute_result"
    },
    {
     "data": {
      "image/png": "[encoded data removed]",
      "text/plain": [
       "<Figure size 432x288 with 1 Axes>"
      ]
     },
     "metadata": {
      "needs_background": "light"
     },
     "output_type": "display_data"
    }
   ],
   "source": [
    "plt.hist(nums)"
   ]
  },
  {
   "cell_type": "raw",
   "id": "6953cf1d",
   "metadata": {},
   "source": [
    "\n",
    "mu, sigma = 100, 15\n",
    "x = mu + sigma * np.random.randn(10000)\n",
    "\n",
    "# the histogram of the data\n",
    "n, bins, patches = plt.hist(nums, 50, density=True, facecolor='g', alpha=0.75)\n",
    "\n",
    "\n",
    "plt.xlabel('Smarts')\n",
    "plt.ylabel('Probability')\n",
    "plt.title('Histogram of IQ')\n",
    "plt.text(60, .025, r'$\\mu=100,\\ \\sigma=15$')\n",
    "plt.axis([40, 160, 0, 0.03])\n",
    "plt.grid(True)\n",
    "plt.show()"
   ]
  },
  {
   "cell_type": "code",
   "execution_count": null,
   "id": "0e95ac0e",
   "metadata": {},
   "outputs": [],
   "source": []
  }
 ],
 "metadata": {
  "kernelspec": {
   "display_name": "Python 3 (ipykernel)",
   "language": "python",
   "name": "python3"
  },
  "language_info": {
   "codemirror_mode": {
    "name": "ipython",
    "version": 3
   },
   "file_extension": ".py",
   "mimetype": "text/x-python",
   "name": "python",
   "nbconvert_exporter": "python",
   "pygments_lexer": "ipython3",
   "version": "3.9.12"
  }
 },
 "nbformat": 4,
 "nbformat_minor": 5
}
