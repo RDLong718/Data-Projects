{
 "cells": [
  {
   "cell_type": "code",
   "execution_count": 55,
   "id": "a180cc7d",
   "metadata": {},
   "outputs": [],
   "source": [
    "import statistics\n",
    "\n",
    "nums=[3,3,8,10]"
   ]
  },
  {
   "cell_type": "code",
   "execution_count": 56,
   "id": "4e07b730",
   "metadata": {},
   "outputs": [
    {
     "name": "stdout",
     "output_type": "stream",
     "text": [
      "5.5\n"
     ]
    }
   ],
   "source": [
    "print(statistics.median(nums))"
   ]
  },
  {
   "cell_type": "code",
   "execution_count": 57,
   "id": "83abd404",
   "metadata": {},
   "outputs": [
    {
     "name": "stdout",
     "output_type": "stream",
     "text": [
      "3\n"
     ]
    }
   ],
   "source": [
    "print(statistics.mode(nums))"
   ]
  },
  {
   "cell_type": "code",
   "execution_count": 58,
   "id": "4d253f96",
   "metadata": {},
   "outputs": [
    {
     "name": "stdout",
     "output_type": "stream",
     "text": [
      "6\n"
     ]
    }
   ],
   "source": [
    "print(statistics.mean(nums))"
   ]
  },
  {
   "cell_type": "code",
   "execution_count": 59,
   "id": "b49e847d",
   "metadata": {},
   "outputs": [
    {
     "name": "stdout",
     "output_type": "stream",
     "text": [
      "[3]\n"
     ]
    }
   ],
   "source": [
    "print(statistics.multimode(nums))"
   ]
  },
  {
   "cell_type": "code",
   "execution_count": 60,
   "id": "661de32d",
   "metadata": {},
   "outputs": [
    {
     "name": "stdout",
     "output_type": "stream",
     "text": [
      "24\n"
     ]
    }
   ],
   "source": [
    "print(sum(nums))"
   ]
  },
  {
   "cell_type": "code",
   "execution_count": 61,
   "id": "b1eb170f",
   "metadata": {},
   "outputs": [
    {
     "data": {
      "text/plain": [
       "4.8"
      ]
     },
     "execution_count": 61,
     "metadata": {},
     "output_type": "execute_result"
    }
   ],
   "source": [
    "24/5"
   ]
  },
  {
   "cell_type": "code",
   "execution_count": null,
   "id": "a09ead30",
   "metadata": {},
   "outputs": [],
   "source": []
  }
 ],
 "metadata": {
  "kernelspec": {
   "display_name": "Python 3 (ipykernel)",
   "language": "python",
   "name": "python3"
  },
  "language_info": {
   "codemirror_mode": {
    "name": "ipython",
    "version": 3
   },
   "file_extension": ".py",
   "mimetype": "text/x-python",
   "name": "python",
   "nbconvert_exporter": "python",
   "pygments_lexer": "ipython3",
   "version": "3.9.12"
  }
 },
 "nbformat": 4,
 "nbformat_minor": 5
}
