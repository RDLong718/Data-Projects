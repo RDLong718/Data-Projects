{
 "cells": [
  {
   "cell_type": "markdown",
   "id": "2778fd07",
   "metadata": {},
   "source": [
    "## Inferential Statistics\n",
    "* Population - our entire group of interest.\n",
    "* Parameter - numeric summary about a population\n",
    "* Sample - a subset of the population\n",
    "* Statistic - numeric summary about a sample"
   ]
  },
  {
   "cell_type": "code",
   "execution_count": null,
   "id": "26833482",
   "metadata": {},
   "outputs": [],
   "source": []
  }
 ],
 "metadata": {
  "kernelspec": {
   "display_name": "Python 3 (ipykernel)",
   "language": "python",
   "name": "python3"
  },
  "language_info": {
   "codemirror_mode": {
    "name": "ipython",
    "version": 3
   },
   "file_extension": ".py",
   "mimetype": "text/x-python",
   "name": "python",
   "nbconvert_exporter": "python",
   "pygments_lexer": "ipython3",
   "version": "3.9.12"
  }
 },
 "nbformat": 4,
 "nbformat_minor": 5
}
